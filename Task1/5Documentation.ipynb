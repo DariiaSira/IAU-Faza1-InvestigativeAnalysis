{
 "cells": [
  {
   "cell_type": "markdown",
   "source": [
    "##### Sira Dariia 119436\n",
    "Task description:\n",
    "https://docs.google.com/document/d/1xaAZbVxaarlAdlqt5xWj8fpmuYR3vPAwCrsvmdnFsfg/edit#heading=h.plpkdqvxt3ta\n",
    "\n",
    "...\n",
    "##### (1b) Dokumentujte Vaše prvotné zamyslenie k riešeniu zadania projektu, napr. sú niektoré atribúty medzi sebou závislé? od ktorých atribútov závisí predikovaná premenná? či sa dá kombinovať záznamy z viacerých súborov? či je potrebné ich kombinovať? \n",
    "\n",
    "##### Also questions:\n",
    "* Majú dáta vhodný formát pre ďalšie spracovanie? Ak nie, aké problémy sa v nich vyskytujú?\n",
    "* Sú v dátach chýbajúce hodnoty? Ako plánujete riešiť tento problém? \n",
    "* Nadobúdajú niektoré atribúty nekonzistentné alebo výrazne odchýlené hodnoty? \n",
    "Ako plánujete/riešíte tieto identifikované problémy?\n"
   ],
   "metadata": {
    "collapsed": false
   },
   "id": "5b03651e9752d0f"
  },
  {
   "cell_type": "markdown",
   "source": [
    "##### When starting this project, it was important for me to do some initial data analysis and make sense of the data. To do this, I asked myself several questions:\n",
    "\n",
    "\n",
    "##### 1) Attribute dependencies \n",
    "I wondered if there were any dependencies between attributes. For example, I wanted to know if there was any dependency between the attributes 'session_duration' and 'total_load_time'. To do this, I used correlation analysis.\n",
    "\n",
    "##### 2) Predictive variable \n",
    "I was interested in which attributes the predicted variable depends on. In this case, it is 'session_duration'. I wanted to understand which attributes could affect the session duration.\n",
    "\n",
    "##### 3) Data merging \n",
    "I was also interested in understanding if data from multiple files could be merged. In my case, I was working with 'user', 'session' and 'product' tables. I looked into the possibility of merging the data for analysis."
   ],
   "metadata": {
    "collapsed": false
   },
   "id": "e108431875b21791"
  },
  {
   "cell_type": "markdown",
   "source": [
    "##### For example:\n",
    "\n",
    "To analyze the dependencies between the 'session_duration' and 'total_load_time' attributes, I used:\n",
    "\n",
    "    print(\"Pearson correlation: %.3f\" % session.session_duration.corr(session.total_load_time))\n",
    "This allowed me to determine the degree of correlation between the two attributes.\n",
    "\n",
    "To identify which attributes might be influencing 'session_duration', I used linear regression. Sample code:\n",
    "\n",
    "    # Create a linear regression model\n",
    "    model = LinearRegression()\n",
    "    \n",
    "    # Fitting the model to the data\n",
    "    model.fit(X, y)\n",
    "    \n",
    "    # Getting coefficients and intercepts\n",
    "    coefficients = model.coef_\n",
    "    intercept = model.intercept_\n",
    "I analyzed the possibility of merging data from the 'user' and 'session' tables using code:\n",
    "\n",
    "    grouped = user.join(session, how='outer', lsuffix='_', rsuffix='_')\n",
    "This code helped me merge the data from both tables for a more complete analysis."
   ],
   "metadata": {
    "collapsed": false
   },
   "id": "975c43620923619a"
  },
  {
   "cell_type": "markdown",
   "source": [
    "##### To sum up, I started by analyzing the structure of the data, examining the dependencies between attributes, and determining the effect of the attributes on the predicted variable."
   ],
   "metadata": {
    "collapsed": false
   },
   "id": "448b9c846c4273dc"
  },
  {
   "cell_type": "markdown",
   "source": [
    "##### Also questions:\n",
    "* Majú dáta vhodný formát pre ďalšie spracovanie? Ak nie, aké problémy sa v nich vyskytujú?\n",
    "* Sú v dátach chýbajúce hodnoty? Ako plánujete riešiť tento problém? \n",
    "* Nadobúdajú niektoré atribúty nekonzistentné alebo výrazne odchýlené hodnoty? \n",
    "Ako plánujete/riešíte tieto identifikované problémy?\n",
    "\n",
    "##### I believe the data is in an appropriate format for further processing and I had no problems with it.\n",
    "\n",
    "##### However, it seemed to me that there are missing binding values in the data. For example, in the user table there is no product_ean value to track which user bought the product. But the session table has these two values so I can get the missing information. \n",
    "\n",
    "##### I didn't notice any contrary attributes or significantly deviating values. However, if I were faced with such a problem I could \n",
    "* remove values that are considered anomalies and not of interest for analysis.\n",
    "* transform the data using techniques such as logarithmization to smooth out outlier values and make them more suitable for analysis.\n",
    "* include them in the analysis if they make sense for a particular task or can provide valuable information about the data."
   ],
   "metadata": {
    "collapsed": false
   },
   "id": "867827444668e667"
  },
  {
   "cell_type": "markdown",
   "source": [],
   "metadata": {
    "collapsed": false
   },
   "id": "204795066e791fc2"
  }
 ],
 "metadata": {
  "kernelspec": {
   "display_name": "Python 3",
   "language": "python",
   "name": "python3"
  },
  "language_info": {
   "codemirror_mode": {
    "name": "ipython",
    "version": 2
   },
   "file_extension": ".py",
   "mimetype": "text/x-python",
   "name": "python",
   "nbconvert_exporter": "python",
   "pygments_lexer": "ipython2",
   "version": "2.7.6"
  }
 },
 "nbformat": 4,
 "nbformat_minor": 5
}
